{
  "cells": [
    {
      "cell_type": "markdown",
      "metadata": {
        "id": "view-in-github",
        "colab_type": "text"
      },
      "source": [
        "<a href=\"https://colab.research.google.com/github/azzazhr/Machine-Learning/blob/main/Praktikum4_Jobsheet3ML.ipynb\" target=\"_parent\"><img src=\"https://colab.research.google.com/assets/colab-badge.svg\" alt=\"Open In Colab\"/></a>"
      ]
    },
    {
      "cell_type": "markdown",
      "source": [
        "### **Nama : Azzahra Attaqina**\n",
        "### **NIM  : 2341720224**\n",
        "### **Kelas : TI-3B**"
      ],
      "metadata": {
        "id": "PkOZEyDuzxNT"
      }
    },
    {
      "cell_type": "markdown",
      "metadata": {
        "id": "ZsB61JAlgY9P"
      },
      "source": [
        "# Langkah 0 - Instal Pillow"
      ]
    },
    {
      "cell_type": "code",
      "execution_count": null,
      "metadata": {
        "id": "t0XzZCTkgY9Q",
        "outputId": "2e121e27-d175-4485-8229-4d3667704e10",
        "colab": {
          "base_uri": "https://localhost:8080/"
        }
      },
      "outputs": [
        {
          "output_type": "stream",
          "name": "stdout",
          "text": [
            "Requirement already satisfied: Pillow in /usr/local/lib/python3.12/dist-packages (11.3.0)\n"
          ]
        }
      ],
      "source": [
        "!pip install Pillow"
      ]
    },
    {
      "cell_type": "markdown",
      "source": [
        "**Langkah 1 - Load Image**"
      ],
      "metadata": {
        "id": "4dV5kKRcg7CR"
      }
    },
    {
      "cell_type": "code",
      "execution_count": null,
      "metadata": {
        "id": "YPLYoFT_gY9R",
        "colab": {
          "base_uri": "https://localhost:8080/"
        },
        "outputId": "5ae72713-67f5-400d-ec31-ed5b244551d2"
      },
      "outputs": [
        {
          "output_type": "stream",
          "name": "stdout",
          "text": [
            "Mounted at /content/drive\n"
          ]
        }
      ],
      "source": [
        "from PIL import Image\n",
        "from google.colab import drive\n",
        "\n",
        "#Mount Google Drive\n",
        "drive.mount('/content/drive')\n",
        "\n",
        "folder_path='/content/drive/MyDrive/DATAML_AZZA/Lenna_(test_image).png'\n",
        "dpath=folder_path\n",
        "img = Image.open(dpath)\n",
        "img.show() # tampilkan gambar"
      ]
    },
    {
      "cell_type": "markdown",
      "source": [
        "**Langkah 2 - Ekstrak Fitur**"
      ],
      "metadata": {
        "id": "8J5q01t7hOKD"
      }
    },
    {
      "cell_type": "code",
      "execution_count": null,
      "metadata": {
        "id": "08RlfsPYgY9R",
        "outputId": "3d2a93b7-7b68-41d7-91c2-448d312a0b49",
        "colab": {
          "base_uri": "https://localhost:8080/"
        }
      },
      "outputs": [
        {
          "output_type": "stream",
          "name": "stdout",
          "text": [
            "256\n",
            "[0, 0, 0, 0, 0, 0, 0, 0, 0, 0, 0, 0, 0, 0, 0, 0, 0, 0, 0, 0, 0, 0, 0, 0, 0, 0, 0, 0, 0, 0, 0, 0, 0, 0, 0, 0, 0, 0, 0, 0, 0, 0, 0, 0, 0, 0, 0, 0, 0, 0, 0, 0, 0, 0, 1, 0, 1, 1, 1, 8, 6, 10, 9, 20, 37, 32, 41, 53, 74, 103, 132, 179, 193, 242, 238, 336, 386, 404, 483, 607, 628, 771, 785, 1001, 1016, 1177, 1269, 1332, 1446, 1487, 1457, 1574, 1585, 1591, 1557, 1569, 1660, 1648, 1420, 1559, 1418, 1384, 1319, 1342, 1156, 1120, 955, 969, 828, 782, 752, 737, 719, 700, 628, 673, 587, 617, 610, 592, 557, 593, 552, 566, 582, 559, 571, 520, 664, 650, 618, 730, 594, 667, 675, 685, 771, 715, 667, 740, 744, 766, 765, 772, 817, 817, 744, 806, 760, 777, 812, 797, 799, 861, 814, 910, 907, 918, 888, 1011, 879, 996, 912, 952, 884, 1074, 977, 1073, 1040, 1216, 1250, 1403, 1534, 1639, 1682, 1776, 1874, 1769, 1582, 1743, 1441, 1477, 1483, 1409, 1437, 1449, 1389, 1479, 1592, 1655, 1657, 1666, 1857, 1896, 1813, 1979, 1814, 1956, 1928, 2055, 2012, 2303, 2333, 2670, 2787, 3232, 3154, 3476, 3424, 3516, 3102, 3176, 2787, 2885, 2630, 2731, 2664, 2955, 2955, 3360, 3554, 4138, 3987, 4057, 4327, 3713, 3185, 2929, 2551, 2432, 2195, 2256, 1960, 2126, 2186, 2265, 2417, 2445, 2282, 1826, 1972, 1456, 1137, 986, 748, 749, 667, 582, 428, 357, 313, 302, 242, 178, 67, 112]\n"
          ]
        }
      ],
      "source": [
        "# Ekstrak setiap channel red, green, blue\n",
        "r, g, b = img.split()\n",
        "\n",
        "# Cek panjang ukuran channel red\n",
        "print(len(r.histogram()))\n",
        "\n",
        "# fitur histogram pada channel red\n",
        "print(r.histogram())"
      ]
    },
    {
      "cell_type": "code",
      "execution_count": null,
      "metadata": {
        "id": "ytTjojABgY9R"
      },
      "outputs": [],
      "source": []
    }
  ],
  "metadata": {
    "kernelspec": {
      "display_name": "base",
      "language": "python",
      "name": "python3"
    },
    "language_info": {
      "codemirror_mode": {
        "name": "ipython",
        "version": 3
      },
      "file_extension": ".py",
      "mimetype": "text/x-python",
      "name": "python",
      "nbconvert_exporter": "python",
      "pygments_lexer": "ipython3",
      "version": "3.11.4"
    },
    "orig_nbformat": 4,
    "colab": {
      "provenance": [],
      "include_colab_link": true
    }
  },
  "nbformat": 4,
  "nbformat_minor": 0
}